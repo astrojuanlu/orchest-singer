{
 "cells": [
  {
   "cell_type": "code",
   "execution_count": 1,
   "metadata": {
    "execution": {
     "iopub.execute_input": "2022-05-03T13:29:12.392866Z",
     "iopub.status.busy": "2022-05-03T13:29:12.392436Z",
     "iopub.status.idle": "2022-05-03T13:29:12.629832Z",
     "shell.execute_reply": "2022-05-03T13:29:12.629100Z"
    }
   },
   "outputs": [],
   "source": [
    "import orchest\n",
    "import psycopg2\n",
    "\n",
    "postgres_host = orchest.get_service(\"postgres\")[\"internal_hostname\"]\n",
    "conn = psycopg2.connect(dbname=\"postgres\", user=\"postgres\", host=postgres_host)"
   ]
  },
  {
   "cell_type": "code",
   "execution_count": 2,
   "metadata": {
    "execution": {
     "iopub.execute_input": "2022-05-03T13:29:12.637819Z",
     "iopub.status.busy": "2022-05-03T13:29:12.637134Z",
     "iopub.status.idle": "2022-05-03T13:29:12.660469Z",
     "shell.execute_reply": "2022-05-03T13:29:12.659728Z"
    }
   },
   "outputs": [],
   "source": [
    "try:\n",
    "    with conn.cursor() as cur:\n",
    "        cur.execute(\n",
    "            \"CREATE TABLE users (id serial PRIMARY KEY, name varchar, email varchar);\"\n",
    "        )\n",
    "\n",
    "        cur.execute(\n",
    "            \"INSERT INTO users (name, email) VALUES (%s, %s)\",\n",
    "            (\"John\", \"john@example.io\"),\n",
    "        )\n",
    "        cur.execute(\n",
    "            \"INSERT INTO users (name, email) VALUES (%s, %s)\",\n",
    "            (\"Rick\", \"rick@example.io\"),\n",
    "        )\n",
    "        cur.execute(\n",
    "            \"INSERT INTO users (name, email) VALUES (%s, %s)\",\n",
    "            (\"Mary\", \"mary@example.io\"),\n",
    "        )\n",
    "        cur.execute(\n",
    "            \"INSERT INTO users (name, email) VALUES (%s, %s)\",\n",
    "            (\"Jane\", \"jane@example.io\"),\n",
    "        )\n",
    "\n",
    "        conn.commit()\n",
    "except:\n",
    "    conn.rollback()"
   ]
  },
  {
   "cell_type": "code",
   "execution_count": 3,
   "metadata": {
    "execution": {
     "iopub.execute_input": "2022-05-03T13:29:12.668244Z",
     "iopub.status.busy": "2022-05-03T13:29:12.667748Z",
     "iopub.status.idle": "2022-05-03T13:29:12.675691Z",
     "shell.execute_reply": "2022-05-03T13:29:12.675035Z"
    }
   },
   "outputs": [
    {
     "name": "stdout",
     "output_type": "stream",
     "text": [
      "[(1, 'Juanlu', 'juanlu@orchest.io'), (2, 'Rick', 'rick@orchest.io'), (3, 'Yannick', 'yannick@orchest.io'), (4, 'Jacopo', 'jacopo@orchest.io')]\n"
     ]
    }
   ],
   "source": [
    "with conn.cursor() as cur:\n",
    "    cur.execute(\"SELECT * FROM users;\")\n",
    "    print(cur.fetchall())"
   ]
  },
  {
   "cell_type": "code",
   "execution_count": 4,
   "metadata": {
    "execution": {
     "iopub.execute_input": "2022-05-03T13:29:12.682700Z",
     "iopub.status.busy": "2022-05-03T13:29:12.682460Z",
     "iopub.status.idle": "2022-05-03T13:29:12.788353Z",
     "shell.execute_reply": "2022-05-03T13:29:12.787614Z"
    },
    "tags": []
   },
   "outputs": [],
   "source": [
    "try:\n",
    "    conn.set_isolation_level(psycopg2.extensions.ISOLATION_LEVEL_AUTOCOMMIT)\n",
    "    conn.cursor().execute(\"CREATE DATABASE target_db;\")\n",
    "except:\n",
    "    pass\n",
    "finally:\n",
    "    conn.set_isolation_level(psycopg2.extensions.ISOLATION_LEVEL_DEFAULT)"
   ]
  },
  {
   "cell_type": "code",
   "execution_count": null,
   "metadata": {},
   "outputs": [],
   "source": []
  }
 ],
 "metadata": {
  "kernelspec": {
   "display_name": "Python 3",
   "language": "python",
   "name": "orchest-kernel-308dca48-b227-405f-938a-8edc9403cd30"
  },
  "language_info": {
   "codemirror_mode": {
    "name": "ipython",
    "version": 3
   },
   "file_extension": ".py",
   "mimetype": "text/x-python",
   "name": "python",
   "nbconvert_exporter": "python",
   "pygments_lexer": "ipython3",
   "version": "3.9.10"
  }
 },
 "nbformat": 4,
 "nbformat_minor": 4
}
