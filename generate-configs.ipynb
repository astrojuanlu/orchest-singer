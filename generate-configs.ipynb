{
    "cells": [
        {
            "cell_type": "code",
            "execution_count": 18,
            "id": "f2e5e82d-1a5c-4758-bb94-98054a53bbe6",
            "metadata": {
                "execution": {
                    "iopub.execute_input": "2022-05-03T14:52:24.880167Z",
                    "iopub.status.busy": "2022-05-03T14:52:24.879367Z",
                    "iopub.status.idle": "2022-05-03T14:52:25.060523Z",
                    "shell.execute_reply": "2022-05-03T14:52:25.059823Z",
                    "shell.execute_reply.started": "2022-05-03T14:52:24.880124Z"
                },
                "tags": []
            },
            "outputs": [],
            "source": [
                "import os\n",
                "\n",
                "from jinja2 import Environment, FileSystemLoader, select_autoescape\n",
                "\n",
                "import orchest"
            ]
        },
        {
            "cell_type": "code",
            "execution_count": 19,
            "id": "d74ddcab-a9aa-4e89-a73d-33935a702063",
            "metadata": {
                "execution": {
                    "iopub.execute_input": "2022-05-03T14:52:26.439410Z",
                    "iopub.status.busy": "2022-05-03T14:52:26.438705Z",
                    "iopub.status.idle": "2022-05-03T14:52:26.454129Z",
                    "shell.execute_reply": "2022-05-03T14:52:26.453422Z",
                    "shell.execute_reply.started": "2022-05-03T14:52:26.439379Z"
                }
            },
            "outputs": [],
            "source": [
                "postgres_host = orchest.get_service(\"postgres\")[\"internal_hostname\"]"
            ]
        },
        {
            "cell_type": "code",
            "execution_count": 12,
            "id": "09159975-f1b8-460b-a5a1-13715b64be4c",
            "metadata": {
                "execution": {
                    "iopub.execute_input": "2022-05-03T14:51:35.146961Z",
                    "iopub.status.busy": "2022-05-03T14:51:35.145957Z",
                    "iopub.status.idle": "2022-05-03T14:51:35.151392Z",
                    "shell.execute_reply": "2022-05-03T14:51:35.150564Z",
                    "shell.execute_reply.started": "2022-05-03T14:51:35.146924Z"
                },
                "tags": []
            },
            "outputs": [],
            "source": [
                "env = Environment(\n",
                "    loader=FileSystemLoader(\"templates\"),\n",
                "    autoescape=select_autoescape()\n",
                ")"
            ]
        },
        {
            "cell_type": "code",
            "execution_count": 23,
            "id": "2639e390-4f1d-4dc5-8e64-5257b92b89e2",
            "metadata": {
                "execution": {
                    "iopub.execute_input": "2022-05-03T14:55:36.249716Z",
                    "iopub.status.busy": "2022-05-03T14:55:36.247681Z",
                    "iopub.status.idle": "2022-05-03T14:55:36.255065Z",
                    "shell.execute_reply": "2022-05-03T14:55:36.254233Z",
                    "shell.execute_reply.started": "2022-05-03T14:55:36.249684Z"
                },
                "tags": []
            },
            "outputs": [],
            "source": [
                "for template_filename in env.list_templates():\n",
                "    destination_filename = template_filename.removesuffix(\".tpl\")\n",
                "\n",
                "    template = env.get_template(template_filename)\n",
                "    template.stream(env=os.environ, postgres_target_host=postgres_host).dump(destination_filename)"
            ]
        },
        {
            "cell_type": "code",
            "execution_count": null,
            "id": "8b7ff974-2e03-4817-8c6b-86936c257c4a",
            "metadata": {},
            "outputs": [],
            "source": []
        }
    ],
    "metadata": {
        "kernelspec": {
            "display_name": "Python 3",
            "language": "python",
            "name": "orchest-kernel-308dca48-b227-405f-938a-8edc9403cd30"
        },
        "language_info": {
            "codemirror_mode": {
                "name": "ipython",
                "version": 3
            },
            "file_extension": ".py",
            "mimetype": "text/x-python",
            "name": "python",
            "nbconvert_exporter": "python",
            "pygments_lexer": "ipython3",
            "version": "3.9.10"
        }
    },
    "nbformat": 4,
    "nbformat_minor": 5
}