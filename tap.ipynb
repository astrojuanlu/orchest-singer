{
 "cells": [
  {
   "cell_type": "code",
   "execution_count": 1,
   "id": "e975d1cd-7eb5-40b4-b794-4b9fde1eae3e",
   "metadata": {
    "execution": {
     "iopub.execute_input": "2022-05-03T14:33:17.105477Z",
     "iopub.status.busy": "2022-05-03T14:33:17.105044Z",
     "iopub.status.idle": "2022-05-03T14:33:17.822252Z",
     "shell.execute_reply": "2022-05-03T14:33:17.821289Z"
    }
   },
   "outputs": [],
   "source": [
    "!mkdir -p \"/data/singer/postgres/\""
   ]
  },
  {
   "cell_type": "code",
   "execution_count": 2,
   "id": "6ab04ed6-8fd6-450a-a130-b2d43c4d4381",
   "metadata": {
    "execution": {
     "iopub.execute_input": "2022-05-03T14:33:17.832654Z",
     "iopub.status.busy": "2022-05-03T14:33:17.832014Z",
     "iopub.status.idle": "2022-05-03T14:33:18.552498Z",
     "shell.execute_reply": "2022-05-03T14:33:18.551587Z"
    }
   },
   "outputs": [],
   "source": [
    "!touch \"/data/singer/postgres/state.json\""
   ]
  },
  {
   "cell_type": "code",
   "execution_count": 3,
   "id": "d93e4d87-bf1b-4d10-8699-dd1ab0e6dfba",
   "metadata": {
    "execution": {
     "iopub.execute_input": "2022-05-03T14:33:18.562907Z",
     "iopub.status.busy": "2022-05-03T14:33:18.562246Z",
     "iopub.status.idle": "2022-05-03T14:33:18.748443Z",
     "shell.execute_reply": "2022-05-03T14:33:18.747824Z"
    },
    "tags": []
   },
   "outputs": [],
   "source": [
    "import json\n",
    "import subprocess\n",
    "\n",
    "import orchest"
   ]
  },
  {
   "cell_type": "code",
   "execution_count": 4,
   "id": "4940c622-f23f-4679-9355-b01744b5e7f7",
   "metadata": {
    "execution": {
     "iopub.execute_input": "2022-05-03T14:33:18.757999Z",
     "iopub.status.busy": "2022-05-03T14:33:18.757785Z",
     "iopub.status.idle": "2022-05-03T14:33:18.998630Z",
     "shell.execute_reply": "2022-05-03T14:33:18.997237Z"
    },
    "tags": []
   },
   "outputs": [
    {
     "name": "stderr",
     "output_type": "stream",
     "text": [
      "time=2022-05-03 14:33:18 name=tap_postgres level=INFO message=Selected streams: ['public-users'] \n",
      "time=2022-05-03 14:33:18 name=tap_postgres level=INFO message=No streams marked as currently_syncing in state file\n",
      "time=2022-05-03 14:33:18 name=tap_postgres level=INFO message=Beginning sync of stream(public-users) with sync method(full)\n",
      "time=2022-05-03 14:33:18 name=tap_postgres level=INFO message=Stream public-users is using full_table replication\n",
      "time=2022-05-03 14:33:18 name=tap_postgres level=INFO message=Current Server Encoding: UTF8\n",
      "time=2022-05-03 14:33:18 name=tap_postgres level=INFO message=Current Client Encoding: UTF8\n",
      "time=2022-05-03 14:33:18 name=tap_postgres level=INFO message=hstore is UNavailable\n",
      "time=2022-05-03 14:33:18 name=tap_postgres level=INFO message=Beginning new Full Table replication 1651588398960\n",
      "time=2022-05-03 14:33:18 name=tap_postgres level=INFO message=select SELECT  \"email\" , \"id\" , \"name\" , xmin::text::bigint\n",
      "                                      FROM \"public\".\"users\"\n",
      "                                     ORDER BY xmin::text ASC with itersize 20000\n",
      "time=2022-05-03 14:33:18 name=singer level=INFO message=METRIC: {\"type\": \"counter\", \"metric\": \"record_count\", \"value\": 4, \"tags\": {}}\n"
     ]
    }
   ],
   "source": [
    "result_str = subprocess.check_output(\n",
    "    [\n",
    "        \"tap-postgres\",\n",
    "        \"--config\",\n",
    "        \"config_tap.json\",\n",
    "        \"--catalog\",\n",
    "        \"catalog.json\",\n",
    "        \"--state\",\n",
    "        \"/data/singer/postgres/state.json\",\n",
    "    ],\n",
    "    encoding=\"utf-8\",  # TODO: Is this the correct encoding?\n",
    ")"
   ]
  },
  {
   "cell_type": "code",
   "execution_count": 5,
   "id": "ad19f091-91ab-4559-8af2-c4a6a6e359fa",
   "metadata": {
    "execution": {
     "iopub.execute_input": "2022-05-03T14:33:19.010764Z",
     "iopub.status.busy": "2022-05-03T14:33:19.010475Z",
     "iopub.status.idle": "2022-05-03T14:33:19.025435Z",
     "shell.execute_reply": "2022-05-03T14:33:19.024723Z"
    },
    "tags": []
   },
   "outputs": [
    {
     "data": {
      "text/plain": [
       "[{'type': 'SCHEMA',\n",
       "  'stream': 'public-users',\n",
       "  'schema': {'type': 'object',\n",
       "   'properties': {'id': {'type': ['integer'],\n",
       "     'minimum': -2147483648,\n",
       "     'maximum': 2147483647},\n",
       "    'name': {'type': ['null', 'string']},\n",
       "    'email': {'type': ['null', 'string']}},\n",
       "   'definitions': {'sdc_recursive_integer_array': {'type': ['null',\n",
       "      'integer',\n",
       "      'array'],\n",
       "     'items': {'$ref': '#/definitions/sdc_recursive_integer_array'}},\n",
       "    'sdc_recursive_number_array': {'type': ['null', 'number', 'array'],\n",
       "     'items': {'$ref': '#/definitions/sdc_recursive_number_array'}},\n",
       "    'sdc_recursive_string_array': {'type': ['null', 'string', 'array'],\n",
       "     'items': {'$ref': '#/definitions/sdc_recursive_string_array'}},\n",
       "    'sdc_recursive_boolean_array': {'type': ['null', 'boolean', 'array'],\n",
       "     'items': {'$ref': '#/definitions/sdc_recursive_boolean_array'}},\n",
       "    'sdc_recursive_timestamp_array': {'type': ['null', 'string', 'array'],\n",
       "     'format': 'date-time',\n",
       "     'items': {'$ref': '#/definitions/sdc_recursive_timestamp_array'}},\n",
       "    'sdc_recursive_object_array': {'type': ['null', 'object', 'array'],\n",
       "     'items': {'$ref': '#/definitions/sdc_recursive_object_array'}}}},\n",
       "  'key_properties': ['id'],\n",
       "  'bookmark_properties': []},\n",
       " {'type': 'STATE',\n",
       "  'value': {'bookmarks': {'public-users': {'last_replication_method': 'FULL_TABLE',\n",
       "     'version': 1651588398960,\n",
       "     'xmin': None}},\n",
       "   'currently_syncing': 'public-users'}},\n",
       " {'type': 'RECORD',\n",
       "  'stream': 'public-users',\n",
       "  'record': {'email': 'juanlu@orchest.io', 'id': 1, 'name': 'Juanlu'},\n",
       "  'version': 1651588398960,\n",
       "  'time_extracted': '2022-05-03T14:33:18.960813Z'},\n",
       " {'type': 'RECORD',\n",
       "  'stream': 'public-users',\n",
       "  'record': {'email': 'rick@orchest.io', 'id': 2, 'name': 'Rick'},\n",
       "  'version': 1651588398960,\n",
       "  'time_extracted': '2022-05-03T14:33:18.960813Z'},\n",
       " {'type': 'RECORD',\n",
       "  'stream': 'public-users',\n",
       "  'record': {'email': 'yannick@orchest.io', 'id': 3, 'name': 'Yannick'},\n",
       "  'version': 1651588398960,\n",
       "  'time_extracted': '2022-05-03T14:33:18.960813Z'},\n",
       " {'type': 'RECORD',\n",
       "  'stream': 'public-users',\n",
       "  'record': {'email': 'jacopo@orchest.io', 'id': 4, 'name': 'Jacopo'},\n",
       "  'version': 1651588398960,\n",
       "  'time_extracted': '2022-05-03T14:33:18.960813Z'},\n",
       " {'type': 'ACTIVATE_VERSION',\n",
       "  'stream': 'public-users',\n",
       "  'version': 1651588398960},\n",
       " {'type': 'STATE',\n",
       "  'value': {'bookmarks': {'public-users': {'last_replication_method': 'FULL_TABLE',\n",
       "     'version': 1651588398960,\n",
       "     'xmin': None}},\n",
       "   'currently_syncing': None}}]"
      ]
     },
     "execution_count": 5,
     "metadata": {},
     "output_type": "execute_result"
    }
   ],
   "source": [
    "data = [json.loads(line) for line in result_str.splitlines()]\n",
    "data"
   ]
  },
  {
   "cell_type": "code",
   "execution_count": 6,
   "id": "0f953658-9bb1-4409-9072-34a0611e45ba",
   "metadata": {
    "execution": {
     "iopub.execute_input": "2022-05-03T14:33:19.037366Z",
     "iopub.status.busy": "2022-05-03T14:33:19.036969Z",
     "iopub.status.idle": "2022-05-03T14:33:19.043330Z",
     "shell.execute_reply": "2022-05-03T14:33:19.042761Z"
    },
    "tags": []
   },
   "outputs": [],
   "source": [
    "orchest.output(data, name=\"tap-output\")"
   ]
  },
  {
   "cell_type": "code",
   "execution_count": null,
   "id": "9f29575e-7956-42c7-a77d-44430910f8ef",
   "metadata": {},
   "outputs": [],
   "source": []
  }
 ],
 "metadata": {
  "kernelspec": {
   "display_name": "Tap",
   "language": "python",
   "name": "orchest-kernel-cb1c78f9-5568-46c7-8410-182f1f4f7931"
  },
  "language_info": {
   "codemirror_mode": {
    "name": "ipython",
    "version": 3
   },
   "file_extension": ".py",
   "mimetype": "text/x-python",
   "name": "python",
   "nbconvert_exporter": "python",
   "pygments_lexer": "ipython3",
   "version": "3.9.10"
  }
 },
 "nbformat": 4,
 "nbformat_minor": 5
}
