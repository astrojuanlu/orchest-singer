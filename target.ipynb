{
 "cells": [
  {
   "cell_type": "code",
   "execution_count": 1,
   "id": "32e5a806-7ace-45b0-bc73-f4e8b5d1170a",
   "metadata": {
    "execution": {
     "iopub.execute_input": "2022-05-03T14:33:48.551796Z",
     "iopub.status.busy": "2022-05-03T14:33:48.551338Z",
     "iopub.status.idle": "2022-05-03T14:33:48.739524Z",
     "shell.execute_reply": "2022-05-03T14:33:48.738905Z"
    },
    "tags": []
   },
   "outputs": [],
   "source": [
    "import io\n",
    "import json\n",
    "import subprocess\n",
    "\n",
    "import orchest"
   ]
  },
  {
   "cell_type": "code",
   "execution_count": 2,
   "id": "e2f1898a-c2e5-4bb9-85b7-ac8c4a40ec8a",
   "metadata": {
    "execution": {
     "iopub.execute_input": "2022-05-03T14:33:48.750994Z",
     "iopub.status.busy": "2022-05-03T14:33:48.750545Z",
     "iopub.status.idle": "2022-05-03T14:33:48.756707Z",
     "shell.execute_reply": "2022-05-03T14:33:48.756144Z"
    },
    "tags": []
   },
   "outputs": [],
   "source": [
    "inputs = orchest.get_inputs()\n",
    "\n",
    "data = inputs[\"tap-output\"]"
   ]
  },
  {
   "cell_type": "code",
   "execution_count": 3,
   "id": "4ca313b0-6d0c-40d0-b81e-b6dc6f791d35",
   "metadata": {
    "execution": {
     "iopub.execute_input": "2022-05-03T14:33:48.766902Z",
     "iopub.status.busy": "2022-05-03T14:33:48.766680Z",
     "iopub.status.idle": "2022-05-03T14:33:48.770509Z",
     "shell.execute_reply": "2022-05-03T14:33:48.769858Z"
    },
    "tags": []
   },
   "outputs": [],
   "source": [
    "command_stdin = \"\\n\".join(json.dumps(line) for line in data)"
   ]
  },
  {
   "cell_type": "code",
   "execution_count": 4,
   "id": "7b3fcbfc-6c57-4804-9634-dac2938ec2f2",
   "metadata": {
    "execution": {
     "iopub.execute_input": "2022-05-03T14:33:48.780440Z",
     "iopub.status.busy": "2022-05-03T14:33:48.779989Z",
     "iopub.status.idle": "2022-05-03T14:33:49.362107Z",
     "shell.execute_reply": "2022-05-03T14:33:49.360808Z"
    },
    "tags": []
   },
   "outputs": [
    {
     "name": "stderr",
     "output_type": "stream",
     "text": [
      "time=2022-05-03 14:33:49 name=target_postgres level=INFO message=Table '\"users\"' exists\n",
      "time=2022-05-03 14:33:49 name=target_postgres level=INFO message=Loading 4 rows into 'public.\"users\"'\n",
      "time=2022-05-03 14:33:49 name=target_postgres level=INFO message=Loading into public.\"users\": {\"inserts\": 0, \"updates\": 4, \"size_bytes\": 362}\n"
     ]
    }
   ],
   "source": [
    "out = subprocess.check_output(\n",
    "    [\"target-postgres\", \"--config\", \"config_target.json\"],\n",
    "    input=command_stdin.encode(\"utf-8\"),\n",
    ")"
   ]
  },
  {
   "cell_type": "code",
   "execution_count": 5,
   "id": "9d175461-63e1-4a86-9052-40baf685498c",
   "metadata": {
    "execution": {
     "iopub.execute_input": "2022-05-03T14:33:49.373064Z",
     "iopub.status.busy": "2022-05-03T14:33:49.372500Z",
     "iopub.status.idle": "2022-05-03T14:33:49.378280Z",
     "shell.execute_reply": "2022-05-03T14:33:49.377450Z"
    },
    "tags": []
   },
   "outputs": [],
   "source": [
    "state = json.loads(out.decode(\"ascii\"))"
   ]
  },
  {
   "cell_type": "code",
   "execution_count": 6,
   "id": "a1997289-91f6-4d1f-bc82-2419c56f9d39",
   "metadata": {
    "execution": {
     "iopub.execute_input": "2022-05-03T14:33:49.391031Z",
     "iopub.status.busy": "2022-05-03T14:33:49.390407Z",
     "iopub.status.idle": "2022-05-03T14:33:49.395766Z",
     "shell.execute_reply": "2022-05-03T14:33:49.395122Z"
    },
    "tags": []
   },
   "outputs": [],
   "source": [
    "with open(\"/data/singer/postgres/state.json\", \"w\") as fh:\n",
    "    json.dump(state, fh)"
   ]
  },
  {
   "cell_type": "code",
   "execution_count": 7,
   "id": "533f50a6-3ad4-42ac-9e0c-ea710240f4b1",
   "metadata": {
    "execution": {
     "iopub.execute_input": "2022-05-03T14:33:49.415365Z",
     "iopub.status.busy": "2022-05-03T14:33:49.411711Z",
     "iopub.status.idle": "2022-05-03T14:33:50.146846Z",
     "shell.execute_reply": "2022-05-03T14:33:50.146016Z"
    },
    "tags": []
   },
   "outputs": [
    {
     "name": "stdout",
     "output_type": "stream",
     "text": [
      "{\"bookmarks\": {\"public-users\": {\"last_replication_method\": \"FULL_TABLE\", \"version\": 1651588398960, \"xmin\": null}}, \"currently_syncing\": null}"
     ]
    }
   ],
   "source": [
    "!tail -n1 \"/data/singer/postgres/state.json\""
   ]
  },
  {
   "cell_type": "code",
   "execution_count": null,
   "id": "b05ae6a7-b8b1-4785-a609-6ef25ff38030",
   "metadata": {},
   "outputs": [],
   "source": []
  }
 ],
 "metadata": {
  "kernelspec": {
   "display_name": "Target",
   "language": "python",
   "name": "orchest-kernel-ea454eaf-1883-4158-89c2-f1813c949f57"
  },
  "language_info": {
   "codemirror_mode": {
    "name": "ipython",
    "version": 3
   },
   "file_extension": ".py",
   "mimetype": "text/x-python",
   "name": "python",
   "nbconvert_exporter": "python",
   "pygments_lexer": "ipython3",
   "version": "3.9.10"
  }
 },
 "nbformat": 4,
 "nbformat_minor": 5
}
